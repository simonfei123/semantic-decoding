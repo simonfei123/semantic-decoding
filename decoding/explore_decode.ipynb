{
 "cells": [
  {
   "cell_type": "code",
   "execution_count": 1,
   "metadata": {},
   "outputs": [
    {
     "name": "stderr",
     "output_type": "stream",
     "text": [
      "/mnt/sphere/projects/simon/semantic-decoding/pyenv/lib/python3.10/site-packages/tqdm/auto.py:21: TqdmWarning: IProgress not found. Please update jupyter and ipywidgets. See https://ipywidgets.readthedocs.io/en/stable/user_install.html\n",
      "  from .autonotebook import tqdm as notebook_tqdm\n",
      "/mnt/sphere/projects/simon/semantic-decoding/pyenv/lib/python3.10/site-packages/torch/__init__.py:747: UserWarning: torch.set_default_tensor_type() is deprecated as of PyTorch 2.1, please use torch.set_default_dtype() and torch.set_default_device() as alternatives. (Triggered internally at ../torch/csrc/tensor/python_tensor.cpp:431.)\n",
      "  _C._set_default_tensor_type(t)\n"
     ]
    }
   ],
   "source": [
    "import os\n",
    "import numpy as np\n",
    "import json\n",
    "import argparse\n",
    "import h5py\n",
    "from pathlib import Path\n",
    "\n",
    "import config\n",
    "from GPT import GPT\n",
    "from Decoder import Decoder, Hypothesis\n",
    "from LanguageModel import LanguageModel\n",
    "from EncodingModel import EncodingModel\n",
    "from StimulusModel import StimulusModel, get_lanczos_mat, affected_trs, LMFeatures\n",
    "from utils_stim import predict_word_rate, predict_word_times"
   ]
  },
  {
   "cell_type": "code",
   "execution_count": 2,
   "metadata": {},
   "outputs": [],
   "source": [
    "gpt_checkpoint = \"perceived\"\n",
    "word_rate_voxels = \"auditory\"\n",
    "subject = 'S1'\n",
    "experiment = 'perceived_speech'\n",
    "task = 'wheretheressmoke'"
   ]
  },
  {
   "cell_type": "code",
   "execution_count": 3,
   "metadata": {},
   "outputs": [
    {
     "data": {
      "text/plain": [
       "(291, 81126)"
      ]
     },
     "execution_count": 3,
     "metadata": {},
     "output_type": "execute_result"
    }
   ],
   "source": [
    "# load responses\n",
    "hf = h5py.File(os.path.join(config.DATA_TEST_DIR, \"test_response\", subject, experiment, task + \".hf5\"), \"r\")\n",
    "resp = np.nan_to_num(hf[\"data\"][:])\n",
    "hf.close()\n",
    "resp.shape"
   ]
  },
  {
   "cell_type": "code",
   "execution_count": 4,
   "metadata": {},
   "outputs": [
    {
     "data": {
      "text/plain": [
       "(17379, 6867)"
      ]
     },
     "execution_count": 4,
     "metadata": {},
     "output_type": "execute_result"
    }
   ],
   "source": [
    "# load gpt\n",
    "with open(os.path.join(config.DATA_LM_DIR, gpt_checkpoint, \"vocab.json\"), \"r\") as f:\n",
    "    gpt_vocab = json.load(f)\n",
    "with open(os.path.join(config.DATA_LM_DIR, \"decoder_vocab.json\"), \"r\") as f:\n",
    "    decoder_vocab = json.load(f)\n",
    "gpt = GPT(path = os.path.join(config.DATA_LM_DIR, gpt_checkpoint, \"model\"), vocab = gpt_vocab, device = \"cuda:5\")\n",
    "features = LMFeatures(model = gpt, layer = config.GPT_LAYER, context_words = config.GPT_WORDS)\n",
    "lm = LanguageModel(gpt, decoder_vocab, nuc_mass = config.LM_MASS, nuc_ratio = config.LM_RATIO)\n",
    "len(gpt_vocab), len(decoder_vocab)"
   ]
  },
  {
   "cell_type": "code",
   "execution_count": 5,
   "metadata": {},
   "outputs": [],
   "source": [
    "# load models\n",
    "load_location = os.path.join(config.MODEL_DIR, subject)\n",
    "word_rate_model = np.load(os.path.join(load_location, \"word_rate_model_%s_orig.npz\" % word_rate_voxels), allow_pickle = True)\n",
    "encoding_model = np.load(os.path.join(load_location, \"encoding_model_%s_orig.npz\" % gpt_checkpoint))\n",
    "weights = encoding_model[\"weights\"]\n",
    "noise_model = encoding_model[\"noise_model\"]\n",
    "tr_stats = encoding_model[\"tr_stats\"]\n",
    "word_stats = encoding_model[\"word_stats\"]\n",
    "em = EncodingModel(resp, weights, encoding_model[\"voxels\"], noise_model, device = \"cuda:6\")\n",
    "em.set_shrinkage(config.NM_ALPHA)\n",
    "assert task not in encoding_model[\"stories\"]"
   ]
  },
  {
   "cell_type": "code",
   "execution_count": 6,
   "metadata": {},
   "outputs": [
    {
     "data": {
      "text/plain": [
       "(['weights',\n",
       "  'noise_model',\n",
       "  'alphas',\n",
       "  'voxels',\n",
       "  'stories',\n",
       "  'tr_stats',\n",
       "  'word_stats'],\n",
       " ['weights', 'mean_rate', 'voxels'])"
      ]
     },
     "execution_count": 6,
     "metadata": {},
     "output_type": "execute_result"
    }
   ],
   "source": [
    "list(encoding_model.keys()), list(word_rate_model.keys())"
   ]
  },
  {
   "cell_type": "code",
   "execution_count": 7,
   "metadata": {},
   "outputs": [
    {
     "data": {
      "text/plain": [
       "((5724, 1), array(5.45454908), (1431,))"
      ]
     },
     "execution_count": 7,
     "metadata": {},
     "output_type": "execute_result"
    }
   ],
   "source": [
    "word_rate_model['weights'].shape, word_rate_model['mean_rate'], word_rate_model['voxels'].shape"
   ]
  },
  {
   "cell_type": "code",
   "execution_count": 8,
   "metadata": {},
   "outputs": [
    {
     "data": {
      "text/plain": [
       "((3072, 81126), (10000, 10000), (2, 768), (2, 768), (10000,))"
      ]
     },
     "execution_count": 8,
     "metadata": {},
     "output_type": "execute_result"
    }
   ],
   "source": [
    "weights.shape, noise_model.shape, tr_stats.shape, word_stats.shape, encoding_model[\"voxels\"].shape"
   ]
  },
  {
   "cell_type": "code",
   "execution_count": 9,
   "metadata": {},
   "outputs": [
    {
     "data": {
      "text/plain": [
       "(291,)"
      ]
     },
     "execution_count": 9,
     "metadata": {},
     "output_type": "execute_result"
    }
   ],
   "source": [
    "# predict word times\n",
    "word_rate = predict_word_rate(resp, word_rate_model[\"weights\"], word_rate_model[\"voxels\"], word_rate_model[\"mean_rate\"])\n",
    "word_rate.shape"
   ]
  },
  {
   "cell_type": "code",
   "execution_count": 10,
   "metadata": {},
   "outputs": [
    {
     "data": {
      "text/plain": [
       "((1589,), (291,))"
      ]
     },
     "execution_count": 10,
     "metadata": {},
     "output_type": "execute_result"
    }
   ],
   "source": [
    "word_times, tr_times = predict_word_times(word_rate, resp, starttime = -10)\n",
    "word_times.shape, tr_times.shape"
   ]
  },
  {
   "cell_type": "code",
   "execution_count": 11,
   "metadata": {},
   "outputs": [
    {
     "name": "stderr",
     "output_type": "stream",
     "text": [
      "/mnt/sphere/projects/simon/semantic-decoding/decoding/utils_ridge/interpdata.py:159: RuntimeWarning: invalid value encountered in divide\n",
      "  val = window * np.sin(np.pi*t) * np.sin(np.pi*t/window) / (np.pi**2 * t**2)\n"
     ]
    },
    {
     "data": {
      "text/plain": [
       "(291, 1589)"
      ]
     },
     "execution_count": 11,
     "metadata": {},
     "output_type": "execute_result"
    }
   ],
   "source": [
    "lanczos_mat = get_lanczos_mat(word_times, tr_times)\n",
    "lanczos_mat.shape"
   ]
  },
  {
   "cell_type": "code",
   "execution_count": 12,
   "metadata": {},
   "outputs": [
    {
     "name": "stdout",
     "output_type": "stream",
     "text": [
      "['i']\n",
      "['i', 'have']\n",
      "['she', 'said', 'she']\n",
      "['she', 'would', 'always', 'say']\n",
      "['she', 'would', 'always', 'say', 'she']\n",
      "['she', 'would', 'say', 'she', \"wasn't\", 'feeling']\n",
      "['she', 'would', 'always', 'say', 'she', \"wasn't\", 'feeling']\n",
      "['she', 'said', 'she', 'was', 'a', 'little', 'stressed', 'out']\n",
      "['she', 'said', 'she', 'was', 'a', 'little', 'stressed', 'out', 'she']\n",
      "['she', 'said', 'she', 'was', 'a', 'bit', 'drunk', 'and', 'not', 'ready']\n",
      "['she', 'said', 'she', 'was', 'a', 'bit', 'drunk', 'and', 'it', \"wasn't\", 'safe']\n",
      "['she', 'said', 'she', 'was', 'a', 'bit', 'drunk', 'and', 'it', 'was', 'too', 'hot']\n",
      "['she', 'would', 'say', 'she', 'had', 'been', 'crying', 'because', 'she', \"wasn't\", 'hungry', 'or', 'anything']\n",
      "['she', 'would', 'say', 'she', 'had', 'been', 'crying', 'because', 'she', \"wasn't\", 'hungry', 'or', 'anything', 'like']\n",
      "['she', 'said', 'she', 'was', 'just', 'tired', 'from', 'working', 'and', 'i', \"couldn't\", 'ask', 'for', 'more', 'than']\n",
      "['she', 'said', 'she', 'was', 'just', 'tired', 'from', 'working', 'and', 'i', \"couldn't\", 'ask', 'for', 'more', 'than', 'that']\n",
      "['she', 'said', 'she', 'was', 'a', 'bit', 'drunk', 'and', 'it', 'was', 'too', 'hot', 'and', 'i', \"wasn't\", 'a', 'fan']\n",
      "['she', 'said', 'she', 'was', 'a', 'bit', 'drunk', 'and', 'it', 'was', 'too', 'hot', 'and', 'i', \"wasn't\", 'a', 'fan', 'of']\n",
      "['she', 'said', 'she', 'was', 'a', 'bit', 'drunk', 'and', 'it', 'was', 'too', 'hot', 'and', 'i', 'should', 'be', 'fine', 'with', 'that']\n",
      "['she', 'said', 'she', 'was', 'a', 'bit', 'drunk', 'and', 'it', 'was', 'too', 'hot', 'and', 'i', 'should', 'be', 'fine', 'with', 'that', 'as']\n",
      "['she', 'said', 'she', 'was', 'a', 'bit', 'drunk', 'and', 'she', \"wasn't\", 'in', 'any', 'pain', 'and', 'i', 'had', 'a', 'lot', 'of', 'friends', 'there']\n",
      "['she', 'said', 'she', 'was', 'a', 'bit', 'drunk', 'and', 'she', \"wasn't\", 'in', 'any', 'pain', 'and', 'i', 'had', 'a', 'lot', 'of', 'friends', 'there', 'but']\n",
      "['she', 'said', 'she', 'was', 'a', 'bit', 'drunk', 'and', 'she', \"wasn't\", 'in', 'any', 'pain', 'and', 'i', 'had', 'a', 'lot', 'of', 'friends', 'but', 'that', 'was']\n",
      "['she', 'said', 'she', 'was', 'a', 'bit', 'drunk', 'and', 'she', \"wasn't\", 'in', 'any', 'pain', 'and', 'i', 'had', 'a', 'lot', 'of', 'friends', 'there', 'but', 'we', \"couldn't\"]\n",
      "['she', 'said', 'she', 'was', 'a', 'bit', 'drunk', 'and', 'she', \"wasn't\", 'in', 'any', 'pain', 'and', 'i', 'had', 'a', 'lot', 'of', 'friends', 'but', 'we', 'had', 'been', 'talking']\n",
      "['she', 'said', 'she', 'was', 'a', 'bit', 'drunk', 'and', 'it', 'was', 'too', 'hot', 'and', 'i', 'should', 'be', 'fine', 'with', 'that', 'as', 'it', 'is', 'my', 'favorite', 'drink', 'so']\n",
      "['she', 'said', 'she', 'was', 'a', 'little', 'stressed', 'out', 'because', 'she', \"wasn't\", 'doing', 'anything', 'wrong', 'and', 'had', 'a', 'lot', 'of', 'friends', 'but', 'i', 'had', 'been', 'watching', 'the', 'news']\n",
      "['she', 'said', 'she', 'was', 'a', 'little', 'stressed', 'out', 'because', 'she', \"wasn't\", 'doing', 'anything', 'wrong', 'and', 'had', 'a', 'lot', 'of', 'friends', 'but', 'i', 'had', 'been', 'watching', 'the', 'news', 'and']\n",
      "['she', 'said', 'she', 'was', 'a', 'little', 'stressed', 'out', 'because', 'she', \"wasn't\", 'doing', 'anything', 'wrong', 'and', 'had', 'a', 'lot', 'of', 'friends', 'but', 'i', 'had', 'been', 'watching', 'the', 'news', 'and', 'thought']\n",
      "['she', 'said', 'she', 'was', 'a', 'little', 'stressed', 'out', 'because', 'she', \"wasn't\", 'doing', 'anything', 'wrong', 'and', 'had', 'a', 'lot', 'of', 'friends', 'but', 'i', 'had', 'been', 'watching', 'the', 'news', 'and', 'thought', 'this']\n",
      "['she', 'said', 'she', 'was', 'a', 'little', 'stressed', 'out', 'because', 'she', \"wasn't\", 'doing', 'anything', 'wrong', 'and', 'had', 'a', 'lot', 'of', 'friends', 'but', 'i', 'had', 'been', 'watching', 'the', 'news', 'and', 'thought', 'this', 'girl']\n",
      "['she', 'said', 'she', 'was', 'a', 'little', 'stressed', 'out', 'because', 'she', \"wasn't\", 'doing', 'anything', 'wrong', 'and', 'had', 'a', 'lot', 'of', 'friends', 'but', 'i', 'had', 'been', 'watching', 'the', 'news', 'and', 'realized', 'that', 'the', 'media']\n",
      "['she', 'said', 'she', 'was', 'a', 'little', 'stressed', 'out', 'because', 'she', \"wasn't\", 'doing', 'anything', 'wrong', 'and', 'had', 'a', 'lot', 'of', 'anxiety', 'issues', 'but', 'i', 'had', 'been', 'watching', 'the', 'news', 'and', 'was', 'really', 'curious', 'what']\n",
      "['she', 'said', 'she', 'was', 'a', 'little', 'stressed', 'out', 'because', 'she', \"wasn't\", 'doing', 'anything', 'wrong', 'and', 'had', 'a', 'lot', 'of', 'anxiety', 'issues', 'but', 'i', 'had', 'been', 'watching', 'the', 'news', 'and', 'was', 'really', 'curious', 'what', 'was']\n",
      "['she', 'said', 'she', 'was', 'a', 'little', 'drunk', 'and', 'she', \"wasn't\", 'in', 'any', 'pain', 'and', 'i', \"wasn't\", 'a', 'fan', 'of', 'alcohol', 'but', 'i', 'had', 'been', 'drinking', 'at', 'this', 'party', 'and', 'was', 'so', 'nervous', 'about', 'what', 'was']\n",
      "['she', 'said', 'she', 'was', 'a', 'little', 'stressed', 'out', 'because', 'she', \"wasn't\", 'doing', 'anything', 'wrong', 'and', 'had', 'a', 'lot', 'of', 'anxiety', 'issues', 'but', 'i', 'had', 'been', 'watching', 'the', 'news', 'and', 'she', 'was', 'so', 'nervous', 'about', 'what', 'was']\n",
      "['she', 'said', 'she', 'was', 'a', 'little', 'stressed', 'out', 'because', 'she', \"wasn't\", 'doing', 'anything', 'wrong', 'and', 'had', 'a', 'lot', 'of', 'anxiety', 'issues', 'but', 'i', 'had', 'been', 'watching', 'the', 'news', 'and', 'she', 'was', 'so', 'nervous', 'about', 'what', 'was', 'about']\n",
      "['she', 'said', 'she', 'was', 'a', 'little', 'stressed', 'out', 'because', 'she', \"wasn't\", 'doing', 'anything', 'wrong', 'and', 'had', 'a', 'lot', 'of', 'anxiety', 'issues', 'but', 'i', 'had', 'been', 'watching', 'the', 'news', 'and', 'she', 'was', 'so', 'nervous', 'about', 'what', 'was', 'happening', 'to']\n",
      "['she', 'said', 'she', 'was', 'a', 'little', 'stressed', 'out', 'because', 'she', \"wasn't\", 'doing', 'anything', 'wrong', 'and', 'had', 'a', 'lot', 'of', 'anxiety', 'issues', 'but', 'i', 'had', 'been', 'watching', 'the', 'news', 'and', 'she', 'was', 'so', 'scared', 'to', 'say', 'something', 'about', 'the', 'fact']\n",
      "['she', 'said', 'she', 'was', 'a', 'little', 'stressed', 'out', 'because', 'she', \"wasn't\", 'doing', 'anything', 'wrong', 'and', 'had', 'a', 'lot', 'of', 'anxiety', 'issues', 'but', 'i', 'had', 'been', 'watching', 'the', 'news', 'and', 'she', 'was', 'so', 'scared', 'to', 'say', 'something', 'about', 'the', 'fact', 'that']\n",
      "['she', 'said', 'she', 'was', 'a', 'little', 'stressed', 'out', 'because', 'she', \"wasn't\", 'doing', 'anything', 'wrong', 'and', 'had', 'a', 'lot', 'of', 'anxiety', 'issues', 'but', 'i', 'had', 'been', 'watching', 'the', 'news', 'and', 'she', 'was', 'so', 'scared', 'to', 'say', 'something', 'about', 'the', 'fact', 'that', 'i']\n",
      "['she', 'said', 'she', 'was', 'a', 'little', 'stressed', 'out', 'because', 'she', \"wasn't\", 'doing', 'anything', 'wrong', 'and', 'had', 'a', 'lot', 'of', 'anxiety', 'issues', 'but', 'i', 'had', 'been', 'watching', 'the', 'news', 'and', 'she', 'was', 'so', 'scared', 'to', 'say', 'something', 'about', 'the', 'fact', 'that', 'i', 'was']\n",
      "['she', 'said', 'she', 'was', 'a', 'little', 'stressed', 'out', 'because', 'she', \"wasn't\", 'doing', 'anything', 'wrong', 'and', 'had', 'a', 'lot', 'of', 'anxiety', 'issues', 'but', 'i', 'had', 'been', 'watching', 'the', 'news', 'and', 'she', 'was', 'so', 'nervous', 'about', 'what', 'was', 'happening', 'to', 'me', 'she', 'had', 'never', 'seen']\n",
      "['she', 'said', 'she', 'was', 'a', 'little', 'stressed', 'out', 'because', 'she', \"wasn't\", 'doing', 'anything', 'wrong', 'and', 'had', 'a', 'lot', 'of', 'anxiety', 'issues', 'but', 'i', 'had', 'been', 'watching', 'the', 'news', 'and', 'she', 'was', 'so', 'nervous', 'about', 'what', 'was', 'happening', 'to', 'me', 'she', 'had', 'just', 'seen', 'a']\n",
      "['she', 'said', 'she', 'was', 'a', 'little', 'stressed', 'out', 'because', 'she', \"wasn't\", 'doing', 'anything', 'wrong', 'and', 'had', 'a', 'lot', 'of', 'anxiety', 'issues', 'but', 'i', 'had', 'been', 'watching', 'the', 'news', 'and', 'she', 'was', 'so', 'nervous', 'about', 'what', 'was', 'happening', 'to', 'me', 'she', 'had', 'never', 'seen', 'a', 'police']\n",
      "['she', 'said', 'she', 'was', 'a', 'little', 'stressed', 'out', 'because', 'she', \"wasn't\", 'doing', 'anything', 'wrong', 'and', 'had', 'a', 'lot', 'of', 'anxiety', 'issues', 'but', 'i', 'had', 'been', 'watching', 'the', 'news', 'and', 'she', 'was', 'so', 'nervous', 'about', 'what', 'was', 'happening', 'to', 'me', 'she', 'had', 'never', 'seen', 'my', 'mom', 'this']\n",
      "['she', 'said', 'she', 'was', 'a', 'little', 'stressed', 'out', 'because', 'she', \"wasn't\", 'doing', 'anything', 'wrong', 'and', 'had', 'a', 'lot', 'of', 'anxiety', 'issues', 'but', 'i', 'had', 'been', 'watching', 'the', 'news', 'and', 'realized', 'that', 'her', 'mom', 'was', 'the', 'most', 'important', 'thing', 'to', 'me', 'and', 'she', 'had', 'just', 'been', 'a', 'friend']\n",
      "['she', 'said', 'she', 'was', 'a', 'little', 'stressed', 'out', 'because', 'she', \"wasn't\", 'doing', 'anything', 'wrong', 'and', 'had', 'a', 'lot', 'of', 'anxiety', 'issues', 'but', 'i', 'had', 'been', 'watching', 'the', 'news', 'and', 'realized', 'that', 'her', 'mom', 'was', 'the', 'most', 'important', 'thing', 'to', 'me', 'and', 'she', 'had', 'just', 'been', 'a', 'friend', 'i']\n",
      "['she', 'said', 'she', 'was', 'a', 'little', 'stressed', 'out', 'because', 'she', \"wasn't\", 'doing', 'anything', 'wrong', 'and', 'had', 'a', 'lot', 'of', 'anxiety', 'issues', 'but', 'i', 'had', 'been', 'watching', 'the', 'news', 'and', 'she', 'was', 'so', 'nervous', 'about', 'what', 'was', 'happening', 'to', 'me', 'she', 'had', 'never', 'seen', 'my', 'mom', 'this', 'was', 'a', 'bad']\n",
      "['she', 'said', 'she', 'was', 'a', 'little', 'stressed', 'out', 'because', 'she', \"wasn't\", 'doing', 'anything', 'wrong', 'and', 'had', 'a', 'lot', 'of', 'anxiety', 'issues', 'but', 'i', 'had', 'been', 'watching', 'the', 'news', 'and', 'she', 'was', 'so', 'nervous', 'about', 'what', 'was', 'happening', 'to', 'me', 'she', 'had', 'never', 'seen', 'my', 'mom', 'this', 'was', 'a', 'bad', 'time']\n",
      "['she', 'said', 'she', 'was', 'a', 'little', 'stressed', 'out', 'because', 'she', \"wasn't\", 'doing', 'anything', 'wrong', 'and', 'had', 'a', 'lot', 'of', 'anxiety', 'issues', 'but', 'i', 'had', 'been', 'watching', 'the', 'news', 'and', 'she', 'was', 'so', 'nervous', 'about', 'what', 'was', 'happening', 'to', 'me', 'she', 'had', 'never', 'seen', 'my', 'mom', 'this', 'was', 'a', 'bad', 'time', 'she']\n",
      "['she', 'said', 'she', 'was', 'a', 'little', 'stressed', 'out', 'because', 'she', \"wasn't\", 'doing', 'anything', 'wrong', 'and', 'had', 'a', 'lot', 'of', 'anxiety', 'issues', 'but', 'i', 'had', 'been', 'watching', 'the', 'news', 'and', 'she', 'was', 'so', 'nervous', 'about', 'what', 'was', 'happening', 'to', 'me', 'she', 'had', 'never', 'seen', 'my', 'mom', 'this', 'was', 'a', 'really', 'bad', 'time', 'she']\n",
      "['she', 'said', 'she', 'was', 'a', 'little', 'stressed', 'out', 'because', 'she', \"wasn't\", 'doing', 'anything', 'wrong', 'and', 'had', 'a', 'lot', 'of', 'anxiety', 'issues', 'but', 'i', 'had', 'been', 'watching', 'the', 'news', 'and', 'she', 'was', 'so', 'nervous', 'about', 'what', 'was', 'happening', 'to', 'me', 'i', 'was', 'the', 'first', 'to', 'notice', 'her', 'her', 'husband', 'was', 'a', 'really', 'cool', 'guy']\n",
      "['she', 'said', 'she', 'was', 'a', 'little', 'stressed', 'out', 'because', 'she', \"wasn't\", 'doing', 'anything', 'wrong', 'and', 'had', 'a', 'lot', 'of', 'anxiety', 'issues', 'but', 'i', 'had', 'been', 'watching', 'the', 'news', 'and', 'she', 'was', 'so', 'nervous', 'about', 'what', 'was', 'happening', 'to', 'me', 'i', 'was', 'the', 'first', 'to', 'notice', 'her', 'her', 'husband', 'was', 'a', 'very', 'serious', 'guy', 'i']\n",
      "['she', 'said', 'she', 'was', 'a', 'little', 'stressed', 'out', 'because', 'she', \"wasn't\", 'doing', 'anything', 'wrong', 'and', 'had', 'a', 'lot', 'of', 'anxiety', 'issues', 'but', 'i', 'had', 'been', 'watching', 'the', 'news', 'and', 'she', 'was', 'so', 'nervous', 'about', 'what', 'was', 'happening', 'to', 'me', 'i', 'was', 'the', 'first', 'to', 'notice', 'her', 'her', 'husband', 'was', 'a', 'very', 'serious', 'guy', 'i', 'thought']\n",
      "['she', 'said', 'she', 'was', 'a', 'little', 'stressed', 'out', 'because', 'she', \"wasn't\", 'doing', 'anything', 'wrong', 'and', 'had', 'a', 'lot', 'of', 'anxiety', 'issues', 'but', 'i', 'had', 'been', 'watching', 'the', 'news', 'and', 'realized', 'that', 'her', 'mom', 'was', 'the', 'most', 'important', 'thing', 'to', 'me', 'and', 'i', 'was', 'not', 'a', 'fan', 'of', 'this', 'guy', 'she', 'was', 'a', 'nice', 'person', 'i', 'loved']\n",
      "['she', 'said', 'she', 'was', 'a', 'little', 'stressed', 'out', 'because', 'she', \"wasn't\", 'doing', 'anything', 'wrong', 'and', 'had', 'a', 'lot', 'of', 'anxiety', 'issues', 'but', 'i', 'had', 'been', 'watching', 'the', 'news', 'and', 'she', 'was', 'so', 'nervous', 'about', 'what', 'was', 'happening', 'to', 'me', 'she', 'had', 'never', 'been', 'a', 'fan', 'of', 'my', 'boyfriend', 'i', 'was', 'a', 'really', 'sweet', 'kid', 'i', 'loved', 'him']\n",
      "['she', 'said', 'she', 'was', 'a', 'little', 'stressed', 'out', 'because', 'she', \"wasn't\", 'doing', 'anything', 'wrong', 'and', 'had', 'a', 'lot', 'of', 'anxiety', 'issues', 'but', 'i', 'had', 'been', 'watching', 'the', 'news', 'and', 'realized', 'that', 'her', 'mom', 'was', 'the', 'most', 'important', 'thing', 'to', 'me', 'and', 'i', 'was', 'not', 'a', 'fan', 'of', 'this', 'guy', 'she', 'was', 'a', 'nice', 'person', 'i', 'really', 'loved', 'her']\n",
      "['she', 'said', 'she', 'was', 'a', 'little', 'stressed', 'out', 'because', 'she', \"wasn't\", 'doing', 'anything', 'wrong', 'and', 'had', 'a', 'lot', 'of', 'anxiety', 'issues', 'but', 'i', 'had', 'been', 'watching', 'the', 'news', 'and', 'she', 'was', 'so', 'nervous', 'about', 'what', 'was', 'happening', 'to', 'me', 'she', 'had', 'never', 'been', 'a', 'fan', 'of', 'my', 'boyfriend', 'i', 'was', 'a', 'really', 'sweet', 'kid', 'i', 'loved', 'him', 'so', 'much']\n",
      "['she', 'said', 'she', 'was', 'a', 'little', 'stressed', 'out', 'because', 'she', \"wasn't\", 'doing', 'anything', 'wrong', 'and', 'had', 'a', 'lot', 'of', 'anxiety', 'issues', 'but', 'i', 'had', 'been', 'watching', 'the', 'news', 'and', 'she', 'was', 'so', 'nervous', 'about', 'what', 'was', 'happening', 'to', 'me', 'she', 'had', 'never', 'been', 'a', 'fan', 'of', 'my', 'boyfriend', 'i', 'was', 'a', 'really', 'sweet', 'kid', 'i', 'loved', 'him', 'so', 'much', 'but']\n",
      "['she', 'said', 'she', 'was', 'a', 'little', 'stressed', 'out', 'because', 'she', \"wasn't\", 'doing', 'anything', 'wrong', 'and', 'had', 'a', 'lot', 'of', 'anxiety', 'issues', 'but', 'i', 'had', 'been', 'watching', 'the', 'news', 'and', 'realized', 'that', 'her', 'mom', 'was', 'the', 'most', 'important', 'thing', 'to', 'me', 'and', 'i', 'was', 'not', 'a', 'fan', 'of', 'this', 'guy', 'she', 'was', 'a', 'nice', 'person', 'i', 'really', 'loved', 'her', 'i', 'could', 'not']\n",
      "['she', 'said', 'she', 'was', 'a', 'little', 'stressed', 'out', 'because', 'she', \"wasn't\", 'doing', 'anything', 'wrong', 'and', 'had', 'a', 'lot', 'of', 'anxiety', 'issues', 'but', 'i', 'had', 'been', 'watching', 'the', 'news', 'and', 'she', 'was', 'so', 'nervous', 'about', 'what', 'was', 'happening', 'to', 'me', 'she', 'had', 'never', 'been', 'a', 'fan', 'of', 'my', 'boyfriend', 'i', 'was', 'a', 'really', 'sweet', 'kid', 'i', 'loved', 'him', 'so', 'much', 'but', 'i', \"couldn't\"]\n",
      "['she', 'said', 'she', 'was', 'a', 'little', 'stressed', 'out', 'because', 'she', \"wasn't\", 'doing', 'anything', 'wrong', 'and', 'had', 'a', 'lot', 'of', 'anxiety', 'issues', 'but', 'i', 'had', 'been', 'watching', 'the', 'news', 'and', 'she', 'was', 'so', 'nervous', 'about', 'what', 'was', 'happening', 'to', 'me', 'she', 'had', 'never', 'been', 'a', 'fan', 'of', 'my', 'boyfriend', 'i', 'was', 'a', 'really', 'sweet', 'kid', 'i', 'loved', 'him', 'so', 'much', 'but', 'i', \"couldn't\", 'let']\n",
      "['she', 'said', 'she', 'was', 'a', 'little', 'stressed', 'out', 'because', 'she', \"wasn't\", 'doing', 'anything', 'wrong', 'and', 'had', 'a', 'lot', 'of', 'anxiety', 'issues', 'but', 'i', 'had', 'been', 'watching', 'the', 'news', 'and', 'she', 'was', 'so', 'nervous', 'about', 'what', 'was', 'happening', 'to', 'me', 'she', 'had', 'never', 'been', 'a', 'fan', 'of', 'my', 'boyfriend', 'i', 'was', 'a', 'really', 'sweet', 'kid', 'i', 'loved', 'him', 'so', 'much', 'but', 'i', \"couldn't\", 'let', 'myself']\n",
      "['she', 'said', 'she', 'was', 'a', 'little', 'stressed', 'out', 'because', 'she', \"wasn't\", 'doing', 'anything', 'wrong', 'and', 'had', 'a', 'lot', 'of', 'anxiety', 'issues', 'but', 'i', 'had', 'been', 'watching', 'the', 'news', 'and', 'realized', 'that', 'her', 'mom', 'was', 'the', 'most', 'important', 'thing', 'to', 'me', 'and', 'i', 'was', 'not', 'a', 'fan', 'of', 'this', 'guy', 'she', 'was', 'a', 'nice', 'kid', 'i', 'loved', 'her', 'dearly', 'but', 'i', \"couldn't\", 'let', 'her', 'go', 'without']\n",
      "['she', 'said', 'she', 'was', 'a', 'little', 'stressed', 'out', 'because', 'she', \"wasn't\", 'doing', 'anything', 'wrong', 'and', 'had', 'a', 'lot', 'of', 'anxiety', 'issues', 'but', 'i', 'had', 'been', 'watching', 'the', 'news', 'and', 'realized', 'that', 'her', 'mom', 'was', 'the', 'most', 'important', 'thing', 'to', 'me', 'and', 'i', 'was', 'not', 'a', 'fan', 'of', 'this', 'guy', 'she', 'was', 'a', 'nice', 'kid', 'i', 'loved', 'her', 'dearly', 'but', 'i', \"couldn't\", 'let', 'her', 'go', 'without', 'having']\n",
      "['she', 'said', 'she', 'was', 'a', 'little', 'stressed', 'out', 'because', 'she', \"wasn't\", 'doing', 'anything', 'wrong', 'and', 'had', 'a', 'lot', 'of', 'anxiety', 'issues', 'but', 'i', 'had', 'been', 'watching', 'the', 'news', 'and', 'realized', 'that', 'her', 'mom', 'was', 'the', 'most', 'important', 'thing', 'to', 'me', 'and', 'i', 'was', 'not', 'a', 'fan', 'of', 'this', 'guy', 'she', 'was', 'a', 'nice', 'kid', 'i', 'loved', 'her', 'dearly', 'but', 'i', \"couldn't\", 'let', 'her', 'go', 'without', 'knowing', 'she']\n",
      "['she', 'said', 'she', 'was', 'a', 'little', 'stressed', 'out', 'because', 'she', \"wasn't\", 'doing', 'anything', 'wrong', 'and', 'had', 'a', 'lot', 'of', 'anxiety', 'issues', 'but', 'i', 'had', 'been', 'watching', 'the', 'news', 'and', 'realized', 'that', 'her', 'mom', 'was', 'the', 'most', 'important', 'thing', 'to', 'me', 'and', 'i', 'was', 'not', 'a', 'fan', 'of', 'this', 'guy', 'she', 'was', 'a', 'nice', 'kid', 'and', 'loved', 'him', 'dearly', 'but', 'i', \"couldn't\", 'let', 'her', 'go', 'without', 'making', 'sure', 'she']\n",
      "['she', 'said', 'she', 'was', 'a', 'little', 'stressed', 'out', 'because', 'she', \"wasn't\", 'doing', 'anything', 'wrong', 'and', 'had', 'a', 'lot', 'of', 'anxiety', 'issues', 'but', 'i', 'had', 'been', 'watching', 'the', 'news', 'and', 'realized', 'that', 'her', 'mom', 'was', 'the', 'most', 'important', 'thing', 'to', 'me', 'and', 'i', 'was', 'not', 'a', 'fan', 'of', 'this', 'guy', 'she', 'was', 'a', 'nice', 'kid', 'and', 'loved', 'him', 'dearly', 'but', 'i', \"couldn't\", 'let', 'her', 'go', 'without', 'making', 'sure', 'she', 'understood']\n",
      "['she', 'said', 'she', 'was', 'a', 'little', 'stressed', 'out', 'because', 'she', \"wasn't\", 'doing', 'anything', 'wrong', 'and', 'had', 'a', 'lot', 'of', 'anxiety', 'issues', 'but', 'i', 'had', 'been', 'watching', 'the', 'news', 'and', 'realized', 'that', 'her', 'mom', 'was', 'the', 'most', 'important', 'thing', 'to', 'me', 'and', 'i', 'was', 'not', 'a', 'fan', 'of', 'this', 'guy', 'she', 'was', 'a', 'nice', 'kid', 'and', 'loved', 'him', 'dearly', 'but', 'i', \"couldn't\", 'let', 'her', 'go', 'without', 'making', 'sure', 'he', 'knew', 'it']\n",
      "['she', 'said', 'she', 'was', 'a', 'little', 'stressed', 'out', 'because', 'she', \"wasn't\", 'doing', 'anything', 'wrong', 'and', 'had', 'a', 'lot', 'of', 'anxiety', 'issues', 'but', 'i', 'had', 'been', 'watching', 'the', 'news', 'and', 'realized', 'that', 'her', 'mom', 'was', 'the', 'most', 'important', 'thing', 'to', 'me', 'and', 'i', 'was', 'not', 'a', 'fan', 'of', 'this', 'guy', 'she', 'was', 'a', 'nice', 'girl', 'i', 'loved', 'her', 'very', 'much', 'but', 'i', \"couldn't\", 'let', 'her', 'go', 'without', 'making', 'it', 'clear', 'i', 'wanted']\n",
      "['she', 'said', 'she', 'was', 'a', 'little', 'stressed', 'out', 'because', 'she', \"wasn't\", 'doing', 'anything', 'wrong', 'and', 'had', 'a', 'lot', 'of', 'anxiety', 'issues', 'but', 'i', 'had', 'been', 'watching', 'the', 'news', 'and', 'realized', 'that', 'her', 'mom', 'was', 'the', 'most', 'important', 'thing', 'to', 'me', 'and', 'i', 'was', 'not', 'a', 'fan', 'of', 'this', 'guy', 'she', 'was', 'a', 'nice', 'girl', 'i', 'loved', 'her', 'very', 'much', 'but', 'i', \"couldn't\", 'let', 'her', 'go', 'without', 'making', 'it', 'clear', 'i', 'had', 'a']\n",
      "['she', 'said', 'she', 'was', 'a', 'little', 'stressed', 'out', 'because', 'she', \"wasn't\", 'doing', 'anything', 'wrong', 'and', 'had', 'a', 'lot', 'of', 'anxiety', 'issues', 'but', 'i', 'had', 'been', 'watching', 'the', 'news', 'and', 'realized', 'that', 'her', 'mom', 'was', 'the', 'most', 'important', 'thing', 'to', 'me', 'and', 'i', 'was', 'not', 'a', 'fan', 'of', 'this', 'guy', 'she', 'was', 'a', 'nice', 'girl', 'i', 'loved', 'her', 'very', 'much', 'but', 'i', \"couldn't\", 'let', 'her', 'go', 'without', 'making', 'it', 'clear', 'i', 'had', 'a', 'crush']\n",
      "['she', 'said', 'she', 'was', 'a', 'little', 'stressed', 'out', 'because', 'she', \"wasn't\", 'doing', 'anything', 'wrong', 'and', 'had', 'a', 'lot', 'of', 'anxiety', 'issues', 'but', 'i', 'had', 'been', 'watching', 'the', 'news', 'and', 'realized', 'that', 'her', 'mom', 'was', 'the', 'most', 'important', 'thing', 'to', 'me', 'and', 'i', 'was', 'not', 'a', 'fan', 'of', 'this', 'guy', 'she', 'was', 'a', 'nice', 'girl', 'i', 'loved', 'her', 'very', 'much', 'but', 'i', \"couldn't\", 'let', 'her', 'go', 'without', 'making', 'it', 'clear', 'i', 'had', 'a', 'heart', 'and']\n",
      "['she', 'said', 'she', 'was', 'a', 'little', 'stressed', 'out', 'because', 'she', \"wasn't\", 'doing', 'anything', 'wrong', 'and', 'had', 'a', 'lot', 'of', 'anxiety', 'issues', 'but', 'i', 'had', 'been', 'watching', 'the', 'news', 'and', 'realized', 'that', 'her', 'mom', 'was', 'the', 'most', 'important', 'thing', 'to', 'me', 'and', 'i', 'was', 'not', 'a', 'fan', 'of', 'this', 'guy', 'she', 'was', 'a', 'nice', 'girl', 'i', 'loved', 'her', 'very', 'much', 'but', 'i', \"couldn't\", 'let', 'her', 'go', 'without', 'making', 'it', 'clear', 'i', 'had', 'a', 'heart', 'and', 'a']\n",
      "['she', 'said', 'she', 'was', 'a', 'little', 'stressed', 'out', 'because', 'she', \"wasn't\", 'doing', 'anything', 'wrong', 'and', 'had', 'a', 'lot', 'of', 'anxiety', 'issues', 'but', 'i', 'had', 'been', 'watching', 'the', 'news', 'and', 'realized', 'that', 'her', 'mom', 'was', 'the', 'most', 'important', 'thing', 'to', 'me', 'and', 'i', 'was', 'not', 'a', 'fan', 'of', 'this', 'guy', 'she', 'was', 'a', 'nice', 'girl', 'i', 'loved', 'her', 'very', 'much', 'but', 'i', \"couldn't\", 'let', 'her', 'go', 'without', 'making', 'it', 'clear', 'i', 'had', 'a', 'heart', 'and', 'she', 'was']\n",
      "['she', 'said', 'she', 'was', 'a', 'little', 'stressed', 'out', 'because', 'she', \"wasn't\", 'doing', 'anything', 'wrong', 'and', 'had', 'a', 'lot', 'of', 'anxiety', 'issues', 'but', 'i', 'had', 'been', 'watching', 'the', 'news', 'and', 'realized', 'that', 'her', 'mom', 'was', 'the', 'most', 'important', 'thing', 'to', 'me', 'and', 'i', 'was', 'not', 'a', 'fan', 'of', 'this', 'guy', 'she', 'was', 'a', 'nice', 'girl', 'i', 'loved', 'her', 'very', 'much', 'but', 'i', \"couldn't\", 'let', 'her', 'go', 'without', 'making', 'it', 'clear', 'i', 'had', 'a', 'heart', 'condition', 'she', 'was', 'like']\n",
      "['she', 'said', 'she', 'was', 'a', 'little', 'stressed', 'out', 'because', 'she', \"wasn't\", 'doing', 'anything', 'wrong', 'and', 'had', 'a', 'lot', 'of', 'anxiety', 'issues', 'but', 'i', 'had', 'been', 'watching', 'the', 'news', 'and', 'realized', 'that', 'her', 'mom', 'was', 'the', 'most', 'important', 'thing', 'to', 'me', 'and', 'i', 'was', 'not', 'a', 'fan', 'of', 'this', 'guy', 'she', 'was', 'a', 'nice', 'girl', 'i', 'loved', 'her', 'very', 'much', 'but', 'i', \"couldn't\", 'let', 'her', 'go', 'without', 'making', 'it', 'clear', 'i', 'had', 'a', 'heart', 'condition', 'she', 'was', 'like', 'that']\n",
      "['she', 'said', 'she', 'was', 'a', 'little', 'stressed', 'out', 'because', 'she', \"wasn't\", 'doing', 'anything', 'wrong', 'and', 'had', 'a', 'lot', 'of', 'anxiety', 'issues', 'but', 'i', 'had', 'been', 'watching', 'the', 'news', 'and', 'realized', 'that', 'her', 'mom', 'was', 'the', 'most', 'important', 'thing', 'to', 'me', 'and', 'i', 'was', 'not', 'a', 'fan', 'of', 'this', 'guy', 'she', 'was', 'a', 'nice', 'kid', 'and', 'loved', 'me', 'so', 'much', 'but', 'i', \"couldn't\", 'let', 'her', 'go', 'without', 'making', 'it', 'clear', 'i', 'had', 'a', 'job', 'and', 'a', 'relationship', 'she', 'was', 'being']\n",
      "['she', 'said', 'she', 'was', 'a', 'little', 'stressed', 'out', 'because', 'she', \"wasn't\", 'doing', 'anything', 'wrong', 'and', 'had', 'a', 'lot', 'of', 'anxiety', 'issues', 'but', 'i', 'had', 'been', 'watching', 'the', 'news', 'and', 'realized', 'that', 'her', 'mom', 'was', 'the', 'most', 'important', 'thing', 'to', 'me', 'and', 'i', 'was', 'not', 'a', 'fan', 'of', 'this', 'guy', 'she', 'was', 'a', 'nice', 'girl', 'i', 'loved', 'her', 'very', 'much', 'but', 'i', \"couldn't\", 'let', 'her', 'go', 'without', 'making', 'it', 'clear', 'i', 'wanted', 'a', 'relationship', 'she', 'was', 'so', 'good', 'at', 'playing', 'games']\n",
      "['she', 'said', 'she', 'was', 'a', 'little', 'stressed', 'out', 'because', 'she', \"wasn't\", 'doing', 'anything', 'wrong', 'and', 'had', 'a', 'lot', 'of', 'anxiety', 'issues', 'but', 'i', 'had', 'been', 'watching', 'the', 'news', 'and', 'realized', 'that', 'her', 'mom', 'was', 'the', 'most', 'important', 'thing', 'to', 'me', 'and', 'i', 'was', 'not', 'a', 'fan', 'of', 'this', 'guy', 'she', 'was', 'a', 'nice', 'girl', 'i', 'loved', 'her', 'very', 'much', 'but', 'i', \"couldn't\", 'let', 'her', 'go', 'without', 'making', 'it', 'clear', 'i', 'had', 'a', 'heart', 'condition', 'she', 'would', 'just', 'try', 'and', 'be', 'mean']\n",
      "['she', 'said', 'she', 'was', 'a', 'little', 'stressed', 'out', 'because', 'she', \"wasn't\", 'doing', 'anything', 'wrong', 'and', 'had', 'a', 'lot', 'of', 'anxiety', 'issues', 'but', 'i', 'had', 'been', 'watching', 'the', 'news', 'and', 'realized', 'that', 'her', 'mom', 'was', 'the', 'most', 'important', 'thing', 'to', 'me', 'and', 'i', 'was', 'not', 'a', 'fan', 'of', 'this', 'guy', 'she', 'was', 'a', 'nice', 'girl', 'i', 'loved', 'her', 'very', 'much', 'but', 'i', \"couldn't\", 'let', 'her', 'go', 'without', 'making', 'it', 'clear', 'i', 'had', 'a', 'heart', 'condition', 'she', 'would', 'just', 'try', 'and', 'be', 'mean', 'and']\n",
      "['she', 'said', 'she', 'was', 'a', 'little', 'stressed', 'out', 'because', 'she', \"wasn't\", 'doing', 'anything', 'wrong', 'and', 'had', 'a', 'lot', 'of', 'anxiety', 'issues', 'but', 'i', 'had', 'been', 'watching', 'the', 'news', 'and', 'realized', 'that', 'her', 'mom', 'was', 'the', 'most', 'important', 'thing', 'to', 'me', 'and', 'i', 'was', 'not', 'a', 'fan', 'of', 'this', 'guy', 'she', 'was', 'a', 'nice', 'girl', 'i', 'loved', 'her', 'very', 'much', 'but', 'i', \"couldn't\", 'let', 'her', 'go', 'without', 'making', 'it', 'clear', 'i', 'had', 'a', 'heart', 'condition', 'she', 'would', 'just', 'try', 'and', 'be', 'mean', 'and', 'hurtful']\n",
      "['she', 'said', 'she', 'was', 'a', 'little', 'stressed', 'out', 'because', 'she', \"wasn't\", 'doing', 'anything', 'wrong', 'and', 'had', 'a', 'lot', 'of', 'anxiety', 'issues', 'but', 'i', 'had', 'been', 'watching', 'the', 'news', 'and', 'realized', 'that', 'her', 'mom', 'was', 'the', 'most', 'important', 'thing', 'to', 'me', 'and', 'i', 'was', 'not', 'a', 'fan', 'of', 'this', 'guy', 'she', 'was', 'a', 'nice', 'girl', 'i', 'loved', 'her', 'very', 'much', 'but', 'i', \"couldn't\", 'let', 'her', 'go', 'without', 'making', 'it', 'clear', 'i', 'had', 'a', 'heart', 'condition', 'she', 'would', 'just', 'try', 'and', 'be', 'mean', 'and', 'hurtful', 'to']\n",
      "['she', 'said', 'she', 'was', 'a', 'little', 'stressed', 'out', 'because', 'she', \"wasn't\", 'doing', 'anything', 'wrong', 'and', 'had', 'a', 'lot', 'of', 'anxiety', 'issues', 'but', 'i', 'had', 'been', 'watching', 'the', 'news', 'and', 'realized', 'that', 'her', 'mom', 'was', 'the', 'most', 'important', 'thing', 'to', 'me', 'and', 'i', 'was', 'not', 'a', 'fan', 'of', 'this', 'guy', 'she', 'was', 'a', 'nice', 'girl', 'i', 'loved', 'her', 'very', 'much', 'but', 'i', \"couldn't\", 'let', 'her', 'go', 'without', 'making', 'it', 'clear', 'i', 'had', 'a', 'heart', 'and', 'she', 'was', 'willing', 'to', 'play', 'this', 'game', 'to', 'win', 'a', 'fight']\n",
      "['she', 'said', 'she', 'was', 'a', 'little', 'stressed', 'out', 'because', 'she', \"wasn't\", 'doing', 'anything', 'wrong', 'and', 'had', 'a', 'lot', 'of', 'anxiety', 'issues', 'but', 'i', 'had', 'been', 'watching', 'the', 'news', 'and', 'realized', 'that', 'her', 'mom', 'was', 'the', 'most', 'important', 'thing', 'to', 'me', 'and', 'i', 'was', 'not', 'a', 'fan', 'of', 'this', 'guy', 'she', 'was', 'a', 'nice', 'girl', 'i', 'loved', 'her', 'very', 'much', 'but', 'i', \"couldn't\", 'let', 'her', 'go', 'without', 'making', 'it', 'clear', 'i', 'had', 'a', 'heart', 'and', 'she', 'was', 'willing', 'to', 'play', 'this', 'game', 'to', 'win', 'a', 'fight', 'if']\n",
      "['she', 'said', 'she', 'was', 'a', 'little', 'stressed', 'out', 'because', 'she', \"wasn't\", 'doing', 'anything', 'wrong', 'and', 'had', 'a', 'lot', 'of', 'anxiety', 'issues', 'but', 'i', 'had', 'been', 'watching', 'the', 'news', 'and', 'realized', 'that', 'her', 'mom', 'was', 'the', 'most', 'important', 'thing', 'to', 'me', 'and', 'i', 'was', 'not', 'a', 'fan', 'of', 'this', 'guy', 'she', 'was', 'a', 'nice', 'girl', 'i', 'loved', 'her', 'very', 'much', 'but', 'i', \"couldn't\", 'let', 'her', 'go', 'without', 'making', 'it', 'clear', 'i', 'had', 'a', 'heart', 'condition', 'she', 'would', 'always', 'try', 'to', 'be', 'strong', 'and', 'not', 'be', 'mean', 'or', 'upset']\n",
      "['she', 'said', 'she', 'was', 'a', 'little', 'stressed', 'out', 'because', 'she', \"wasn't\", 'doing', 'anything', 'wrong', 'and', 'had', 'a', 'lot', 'of', 'anxiety', 'issues', 'but', 'i', 'had', 'been', 'watching', 'the', 'news', 'and', 'realized', 'that', 'her', 'mom', 'was', 'the', 'most', 'important', 'thing', 'to', 'me', 'and', 'i', 'was', 'not', 'a', 'fan', 'of', 'this', 'guy', 'she', 'was', 'a', 'nice', 'girl', 'i', 'loved', 'her', 'very', 'much', 'but', 'i', \"couldn't\", 'let', 'her', 'go', 'without', 'making', 'it', 'clear', 'i', 'had', 'a', 'heart', 'condition', 'she', 'would', 'always', 'try', 'to', 'be', 'strong', 'and', 'not', 'be', 'mean', 'or', 'upset', 'that']\n",
      "['she', 'said', 'she', 'was', 'a', 'little', 'stressed', 'out', 'because', 'she', \"wasn't\", 'doing', 'anything', 'wrong', 'and', 'had', 'a', 'lot', 'of', 'anxiety', 'issues', 'but', 'i', 'had', 'been', 'watching', 'the', 'news', 'and', 'realized', 'that', 'her', 'mom', 'was', 'the', 'most', 'important', 'thing', 'to', 'me', 'and', 'i', 'was', 'not', 'a', 'fan', 'of', 'this', 'guy', 'she', 'was', 'a', 'nice', 'girl', 'i', 'loved', 'her', 'very', 'much', 'but', 'i', \"couldn't\", 'let', 'her', 'go', 'without', 'making', 'it', 'clear', 'i', 'had', 'a', 'heart', 'and', 'she', 'was', 'willing', 'to', 'try', 'and', 'be', 'patient', 'and', 'not', 'be', 'angry', 'or', 'upset', 'that']\n",
      "['she', 'said', 'she', 'was', 'a', 'little', 'stressed', 'out', 'because', 'she', \"wasn't\", 'doing', 'anything', 'wrong', 'and', 'had', 'a', 'lot', 'of', 'anxiety', 'issues', 'but', 'i', 'had', 'been', 'watching', 'the', 'news', 'and', 'realized', 'that', 'her', 'mom', 'was', 'the', 'most', 'important', 'thing', 'to', 'me', 'and', 'i', 'was', 'not', 'a', 'fan', 'of', 'this', 'guy', 'she', 'was', 'a', 'nice', 'girl', 'i', 'loved', 'her', 'very', 'much', 'but', 'i', \"couldn't\", 'let', 'her', 'go', 'without', 'making', 'it', 'clear', 'i', 'had', 'a', 'heart', 'and', 'a', 'mind', 'i', 'was', 'willing', 'to', 'be', 'generous', 'and', 'not', 'hurt', 'or', 'upset', 'you', 'as', 'long']\n",
      "['she', 'said', 'she', 'was', 'a', 'little', 'stressed', 'out', 'because', 'she', \"wasn't\", 'doing', 'anything', 'wrong', 'and', 'had', 'a', 'lot', 'of', 'anxiety', 'issues', 'but', 'i', 'had', 'been', 'watching', 'the', 'news', 'and', 'realized', 'that', 'her', 'mom', 'was', 'the', 'most', 'important', 'thing', 'to', 'me', 'and', 'i', 'was', 'not', 'a', 'fan', 'of', 'this', 'guy', 'she', 'was', 'a', 'nice', 'girl', 'i', 'loved', 'her', 'very', 'much', 'but', 'i', \"couldn't\", 'let', 'her', 'go', 'without', 'making', 'it', 'clear', 'i', 'wanted', 'a', 'relationship', 'she', 'would', 'say', 'no', 'to', 'everything', 'and', 'be', 'willing', 'to', 'change', 'things', 'just', 'because', 'you', 'feel', 'it', 'might']\n",
      "['she', 'said', 'she', 'was', 'a', 'little', 'stressed', 'out', 'because', 'she', \"wasn't\", 'doing', 'anything', 'wrong', 'and', 'had', 'a', 'lot', 'of', 'anxiety', 'issues', 'but', 'i', 'had', 'been', 'watching', 'the', 'news', 'and', 'realized', 'that', 'her', 'mom', 'was', 'the', 'most', 'important', 'thing', 'to', 'me', 'and', 'i', 'was', 'not', 'a', 'fan', 'of', 'this', 'guy', 'she', 'was', 'a', 'nice', 'girl', 'i', 'loved', 'her', 'very', 'much', 'but', 'i', \"couldn't\", 'let', 'her', 'go', 'without', 'making', 'it', 'clear', 'i', 'wanted', 'a', 'relationship', 'she', 'would', 'say', 'no', 'to', 'everything', 'and', 'be', 'willing', 'to', 'deal', 'with', 'anything', 'just', 'because', 'you', 'feel', 'it', 'might']\n",
      "['she', 'said', 'she', 'was', 'a', 'little', 'stressed', 'out', 'because', 'she', \"wasn't\", 'doing', 'anything', 'wrong', 'and', 'had', 'a', 'lot', 'of', 'anxiety', 'issues', 'but', 'i', 'had', 'been', 'watching', 'the', 'news', 'and', 'realized', 'that', 'her', 'mom', 'was', 'the', 'most', 'important', 'thing', 'to', 'me', 'and', 'i', 'was', 'not', 'a', 'fan', 'of', 'this', 'guy', 'she', 'was', 'a', 'nice', 'girl', 'i', 'loved', 'her', 'very', 'much', 'but', 'i', \"couldn't\", 'let', 'her', 'go', 'without', 'making', 'it', 'clear', 'i', 'had', 'a', 'heart', 'and', 'a', 'mind', 'i', 'was', 'determined', 'to', 'be', 'strong', 'and', 'not', 'be', 'afraid', 'to', 'tell', 'them', 'anything', 'that', 'they', 'may']\n",
      "['she', 'said', 'she', 'was', 'a', 'little', 'stressed', 'out', 'because', 'she', \"wasn't\", 'doing', 'anything', 'wrong', 'and', 'had', 'a', 'lot', 'of', 'anxiety', 'issues', 'but', 'i', 'had', 'been', 'watching', 'the', 'news', 'and', 'realized', 'that', 'her', 'mom', 'was', 'the', 'most', 'important', 'thing', 'to', 'me', 'and', 'i', 'was', 'not', 'a', 'fan', 'of', 'this', 'guy', 'she', 'was', 'a', 'nice', 'girl', 'i', 'loved', 'her', 'very', 'much', 'but', 'i', \"couldn't\", 'let', 'her', 'go', 'without', 'making', 'it', 'clear', 'i', 'wanted', 'a', 'relationship', 'she', 'would', 'say', 'no', 'to', 'everything', 'and', 'be', 'willing', 'to', 'deal', 'with', 'anything', 'just', 'because', 'you', 'think', 'it', 'will', 'work', 'she']\n",
      "['she', 'said', 'she', 'was', 'a', 'little', 'stressed', 'out', 'because', 'she', \"wasn't\", 'doing', 'anything', 'wrong', 'and', 'had', 'a', 'lot', 'of', 'anxiety', 'issues', 'but', 'i', 'had', 'been', 'watching', 'the', 'news', 'and', 'realized', 'that', 'her', 'mom', 'was', 'the', 'most', 'important', 'thing', 'to', 'me', 'and', 'i', 'was', 'not', 'a', 'fan', 'of', 'this', 'guy', 'she', 'was', 'a', 'nice', 'girl', 'i', 'loved', 'her', 'very', 'much', 'but', 'i', \"couldn't\", 'let', 'her', 'go', 'without', 'making', 'it', 'clear', 'i', 'wanted', 'a', 'relationship', 'she', 'would', 'say', 'no', 'to', 'everything', 'and', 'be', 'willing', 'to', 'deal', 'with', 'anything', 'just', 'because', 'you', 'think', 'it', 'will', 'work', 'out', 'so']\n",
      "['she', 'said', 'she', 'was', 'a', 'little', 'stressed', 'out', 'because', 'she', \"wasn't\", 'doing', 'anything', 'wrong', 'and', 'had', 'a', 'lot', 'of', 'anxiety', 'issues', 'but', 'i', 'had', 'been', 'watching', 'the', 'news', 'and', 'realized', 'that', 'her', 'mom', 'was', 'the', 'most', 'important', 'thing', 'to', 'me', 'and', 'i', 'was', 'not', 'a', 'fan', 'of', 'this', 'guy', 'she', 'was', 'a', 'nice', 'girl', 'i', 'loved', 'her', 'very', 'much', 'but', 'i', \"couldn't\", 'let', 'her', 'go', 'without', 'making', 'it', 'clear', 'i', 'wanted', 'a', 'relationship', 'she', 'would', 'say', 'no', 'to', 'everything', 'and', 'be', 'willing', 'to', 'deal', 'with', 'anything', 'just', 'because', 'you', 'think', 'it', 'will', 'work', 'out', 'so', 'she']\n",
      "['she', 'said', 'she', 'was', 'a', 'little', 'stressed', 'out', 'because', 'she', \"wasn't\", 'doing', 'anything', 'wrong', 'and', 'had', 'a', 'lot', 'of', 'anxiety', 'issues', 'but', 'i', 'had', 'been', 'watching', 'the', 'news', 'and', 'realized', 'that', 'her', 'mom', 'was', 'the', 'most', 'important', 'thing', 'to', 'me', 'and', 'i', 'was', 'not', 'a', 'fan', 'of', 'this', 'guy', 'she', 'was', 'a', 'nice', 'girl', 'i', 'loved', 'her', 'very', 'much', 'but', 'i', \"couldn't\", 'let', 'her', 'go', 'without', 'making', 'it', 'clear', 'i', 'wanted', 'a', 'relationship', 'she', 'would', 'say', 'no', 'to', 'everything', 'and', 'be', 'willing', 'to', 'deal', 'with', 'anything', 'just', 'because', 'you', 'think', 'it', 'will', 'work', 'out', 'so', 'that', 'she']\n",
      "['she', 'said', 'she', 'was', 'a', 'little', 'stressed', 'out', 'because', 'she', \"wasn't\", 'doing', 'anything', 'wrong', 'and', 'had', 'a', 'lot', 'of', 'anxiety', 'issues', 'but', 'i', 'had', 'been', 'watching', 'the', 'news', 'and', 'realized', 'that', 'her', 'mom', 'was', 'the', 'most', 'important', 'thing', 'to', 'me', 'and', 'i', 'was', 'not', 'a', 'fan', 'of', 'this', 'guy', 'she', 'was', 'a', 'nice', 'girl', 'i', 'loved', 'her', 'very', 'much', 'but', 'i', \"couldn't\", 'let', 'her', 'go', 'without', 'making', 'it', 'clear', 'i', 'wanted', 'a', 'relationship', 'she', 'would', 'say', 'no', 'to', 'everything', 'and', 'be', 'willing', 'to', 'deal', 'with', 'anything', 'just', 'because', 'you', 'think', 'it', 'will', 'work', 'out', 'i', 'really', 'did', 'try']\n",
      "['she', 'said', 'she', 'was', 'a', 'little', 'stressed', 'out', 'because', 'she', \"wasn't\", 'doing', 'anything', 'wrong', 'and', 'had', 'a', 'lot', 'of', 'anxiety', 'issues', 'but', 'i', 'had', 'been', 'watching', 'the', 'news', 'and', 'realized', 'that', 'her', 'mom', 'was', 'the', 'most', 'important', 'thing', 'to', 'me', 'and', 'i', 'was', 'not', 'a', 'fan', 'of', 'this', 'guy', 'she', 'was', 'a', 'nice', 'girl', 'i', 'loved', 'her', 'very', 'much', 'but', 'i', \"couldn't\", 'let', 'her', 'go', 'without', 'making', 'it', 'clear', 'i', 'wanted', 'a', 'relationship', 'she', 'would', 'say', 'no', 'to', 'everything', 'and', 'be', 'willing', 'to', 'deal', 'with', 'anything', 'just', 'because', 'you', 'think', 'it', 'will', 'work', 'out', 'i', 'did', 'it', 'for', 'me']\n",
      "['she', 'said', 'she', 'was', 'a', 'little', 'stressed', 'out', 'because', 'she', \"wasn't\", 'doing', 'anything', 'wrong', 'and', 'had', 'a', 'lot', 'of', 'anxiety', 'issues', 'but', 'i', 'had', 'been', 'watching', 'the', 'news', 'and', 'realized', 'that', 'her', 'mom', 'was', 'the', 'most', 'important', 'thing', 'to', 'me', 'and', 'i', 'was', 'not', 'a', 'fan', 'of', 'this', 'guy', 'she', 'was', 'a', 'nice', 'girl', 'i', 'loved', 'her', 'very', 'much', 'but', 'i', \"couldn't\", 'let', 'her', 'go', 'without', 'making', 'it', 'clear', 'i', 'had', 'a', 'heart', 'and', 'she', 'was', 'willing', 'to', 'play', 'this', 'game', 'to', 'win', 'a', 'fight', 'if', 'that', 'made', 'her', 'feel', 'better', 'so', 'long', 'as', 'it', 'was', 'her', 'money', 'the', 'rest']\n",
      "['she', 'said', 'she', 'was', 'a', 'little', 'stressed', 'out', 'because', 'she', \"wasn't\", 'doing', 'anything', 'wrong', 'and', 'had', 'a', 'lot', 'of', 'anxiety', 'issues', 'but', 'i', 'had', 'been', 'watching', 'the', 'news', 'and', 'realized', 'that', 'her', 'mom', 'was', 'the', 'most', 'important', 'thing', 'to', 'me', 'and', 'i', 'was', 'not', 'a', 'fan', 'of', 'this', 'guy', 'she', 'was', 'a', 'nice', 'girl', 'i', 'loved', 'her', 'very', 'much', 'but', 'i', \"couldn't\", 'let', 'her', 'go', 'without', 'making', 'it', 'clear', 'i', 'had', 'a', 'heart', 'and', 'she', 'was', 'willing', 'to', 'play', 'this', 'game', 'to', 'win', 'a', 'fight', 'if', 'that', 'made', 'her', 'feel', 'better', 'so', 'long', 'as', 'it', \"wasn't\", 'for', 'you', 'her', 'words', 'you']\n",
      "['she', 'said', 'she', 'was', 'a', 'little', 'stressed', 'out', 'because', 'she', \"wasn't\", 'doing', 'anything', 'wrong', 'and', 'had', 'a', 'lot', 'of', 'anxiety', 'issues', 'but', 'i', 'had', 'been', 'watching', 'the', 'news', 'and', 'realized', 'that', 'her', 'mom', 'was', 'the', 'most', 'important', 'thing', 'to', 'me', 'and', 'i', 'was', 'not', 'a', 'fan', 'of', 'this', 'guy', 'she', 'was', 'a', 'nice', 'girl', 'i', 'loved', 'her', 'very', 'much', 'but', 'i', \"couldn't\", 'let', 'her', 'go', 'without', 'making', 'it', 'clear', 'i', 'had', 'a', 'heart', 'and', 'she', 'was', 'willing', 'to', 'play', 'this', 'game', 'to', 'win', 'a', 'fight', 'if', 'that', 'made', 'her', 'feel', 'better', 'so', 'long', 'as', 'it', \"wasn't\", 'for', 'money', 'i', 'did', 'it', 'all']\n",
      "['she', 'said', 'she', 'was', 'a', 'little', 'stressed', 'out', 'because', 'she', \"wasn't\", 'doing', 'anything', 'wrong', 'and', 'had', 'a', 'lot', 'of', 'anxiety', 'issues', 'but', 'i', 'had', 'been', 'watching', 'the', 'news', 'and', 'realized', 'that', 'her', 'mom', 'was', 'the', 'most', 'important', 'thing', 'to', 'me', 'and', 'i', 'was', 'not', 'a', 'fan', 'of', 'this', 'guy', 'she', 'was', 'a', 'nice', 'girl', 'i', 'loved', 'her', 'very', 'much', 'but', 'i', \"couldn't\", 'let', 'her', 'go', 'without', 'making', 'it', 'clear', 'i', 'had', 'a', 'heart', 'and', 'she', 'was', 'willing', 'to', 'play', 'this', 'game', 'to', 'win', 'a', 'fight', 'if', 'that', 'made', 'her', 'feel', 'better', 'so', 'long', 'as', 'it', 'was', 'her', 'money', 'i', 'think', 'i', 'did', 'that']\n",
      "['she', 'said', 'she', 'was', 'a', 'little', 'stressed', 'out', 'because', 'she', \"wasn't\", 'doing', 'anything', 'wrong', 'and', 'had', 'a', 'lot', 'of', 'anxiety', 'issues', 'but', 'i', 'had', 'been', 'watching', 'the', 'news', 'and', 'realized', 'that', 'her', 'mom', 'was', 'the', 'most', 'important', 'thing', 'to', 'me', 'and', 'i', 'was', 'not', 'a', 'fan', 'of', 'this', 'guy', 'she', 'was', 'a', 'nice', 'girl', 'i', 'loved', 'her', 'very', 'much', 'but', 'i', \"couldn't\", 'let', 'her', 'go', 'without', 'making', 'it', 'clear', 'i', 'had', 'a', 'heart', 'and', 'she', 'was', 'willing', 'to', 'play', 'this', 'game', 'to', 'win', 'a', 'fight', 'if', 'that', 'made', 'her', 'feel', 'better', 'so', 'long', 'as', 'it', 'was', 'her', 'money', 'i', 'think', 'i', 'did', 'it', 'all']\n",
      "['she', 'said', 'she', 'was', 'a', 'little', 'stressed', 'out', 'because', 'she', \"wasn't\", 'doing', 'anything', 'wrong', 'and', 'had', 'a', 'lot', 'of', 'anxiety', 'issues', 'but', 'i', 'had', 'been', 'watching', 'the', 'news', 'and', 'realized', 'that', 'her', 'mom', 'was', 'the', 'most', 'important', 'thing', 'to', 'me', 'and', 'i', 'was', 'not', 'a', 'fan', 'of', 'this', 'guy', 'she', 'was', 'a', 'nice', 'girl', 'i', 'loved', 'her', 'very', 'much', 'but', 'i', \"couldn't\", 'let', 'her', 'go', 'without', 'making', 'it', 'clear', 'i', 'had', 'a', 'heart', 'and', 'she', 'was', 'willing', 'to', 'play', 'this', 'game', 'to', 'win', 'a', 'fight', 'if', 'that', 'made', 'her', 'feel', 'better', 'so', 'long', 'as', 'it', 'was', 'her', 'own', 'money', 'i', 'think', 'i', 'did', 'it', 'all']\n",
      "['she', 'said', 'she', 'was', 'a', 'little', 'stressed', 'out', 'because', 'she', \"wasn't\", 'doing', 'anything', 'wrong', 'and', 'had', 'a', 'lot', 'of', 'anxiety', 'issues', 'but', 'i', 'had', 'been', 'watching', 'the', 'news', 'and', 'realized', 'that', 'her', 'mom', 'was', 'the', 'most', 'important', 'thing', 'to', 'me', 'and', 'i', 'was', 'not', 'a', 'fan', 'of', 'this', 'guy', 'she', 'was', 'a', 'nice', 'girl', 'i', 'loved', 'her', 'very', 'much', 'but', 'i', \"couldn't\", 'let', 'her', 'go', 'without', 'making', 'it', 'clear', 'i', 'had', 'a', 'heart', 'and', 'she', 'was', 'willing', 'to', 'play', 'this', 'game', 'to', 'win', 'a', 'fight', 'if', 'that', 'made', 'her', 'feel', 'better', 'so', 'long', 'as', 'it', 'was', 'her', 'own', 'money', 'i', 'think', 'i', 'did', 'it', 'all', 'myself']\n",
      "['she', 'said', 'she', 'was', 'a', 'little', 'stressed', 'out', 'because', 'she', \"wasn't\", 'doing', 'anything', 'wrong', 'and', 'had', 'a', 'lot', 'of', 'anxiety', 'issues', 'but', 'i', 'had', 'been', 'watching', 'the', 'news', 'and', 'realized', 'that', 'her', 'mom', 'was', 'the', 'most', 'important', 'thing', 'to', 'me', 'and', 'i', 'was', 'not', 'a', 'fan', 'of', 'this', 'guy', 'she', 'was', 'a', 'nice', 'girl', 'i', 'loved', 'her', 'very', 'much', 'but', 'i', \"couldn't\", 'let', 'her', 'go', 'without', 'making', 'it', 'clear', 'i', 'had', 'a', 'heart', 'and', 'she', 'was', 'willing', 'to', 'play', 'this', 'game', 'to', 'win', 'a', 'fight', 'if', 'that', 'made', 'her', 'feel', 'better', 'so', 'long', 'as', 'it', 'was', 'her', 'own', 'money', 'i', 'think', 'i', 'did', 'it', 'all', 'myself', 'but']\n",
      "['she', 'said', 'she', 'was', 'a', 'little', 'stressed', 'out', 'because', 'she', \"wasn't\", 'doing', 'anything', 'wrong', 'and', 'had', 'a', 'lot', 'of', 'anxiety', 'issues', 'but', 'i', 'had', 'been', 'watching', 'the', 'news', 'and', 'realized', 'that', 'her', 'mom', 'was', 'the', 'most', 'important', 'thing', 'to', 'me', 'and', 'i', 'was', 'not', 'a', 'fan', 'of', 'this', 'guy', 'she', 'was', 'a', 'nice', 'girl', 'i', 'loved', 'her', 'very', 'much', 'but', 'i', \"couldn't\", 'let', 'her', 'go', 'without', 'making', 'it', 'clear', 'i', 'had', 'a', 'heart', 'and', 'she', 'was', 'willing', 'to', 'play', 'this', 'game', 'to', 'win', 'a', 'fight', 'if', 'that', 'made', 'her', 'feel', 'better', 'so', 'long', 'as', 'it', 'was', 'her', 'own', 'money', 'i', 'think', 'i', 'did', 'it', 'all', 'but', 'not', 'because']\n",
      "['she', 'said', 'she', 'was', 'a', 'little', 'stressed', 'out', 'because', 'she', \"wasn't\", 'doing', 'anything', 'wrong', 'and', 'had', 'a', 'lot', 'of', 'anxiety', 'issues', 'but', 'i', 'had', 'been', 'watching', 'the', 'news', 'and', 'realized', 'that', 'her', 'mom', 'was', 'the', 'most', 'important', 'thing', 'to', 'me', 'and', 'i', 'was', 'not', 'a', 'fan', 'of', 'this', 'guy', 'she', 'was', 'a', 'nice', 'girl', 'i', 'loved', 'her', 'very', 'much', 'but', 'i', \"couldn't\", 'let', 'her', 'go', 'without', 'making', 'it', 'clear', 'i', 'had', 'a', 'heart', 'and', 'she', 'was', 'willing', 'to', 'play', 'this', 'game', 'to', 'win', 'a', 'fight', 'if', 'that', 'made', 'her', 'feel', 'better', 'so', 'long', 'as', 'it', \"wasn't\", 'for', 'money', 'i', 'did', 'this', 'all', 'the', 'time', 'before', 'but', 'never', 'was', 'ever']\n",
      "['she', 'said', 'she', 'was', 'a', 'little', 'stressed', 'out', 'because', 'she', \"wasn't\", 'doing', 'anything', 'wrong', 'and', 'had', 'a', 'lot', 'of', 'anxiety', 'issues', 'but', 'i', 'had', 'been', 'watching', 'the', 'news', 'and', 'realized', 'that', 'her', 'mom', 'was', 'the', 'most', 'important', 'thing', 'to', 'me', 'and', 'i', 'was', 'not', 'a', 'fan', 'of', 'this', 'guy', 'she', 'was', 'a', 'nice', 'girl', 'i', 'loved', 'her', 'very', 'much', 'but', 'i', \"couldn't\", 'let', 'her', 'go', 'without', 'making', 'it', 'clear', 'i', 'had', 'a', 'heart', 'and', 'she', 'was', 'willing', 'to', 'play', 'this', 'game', 'to', 'win', 'a', 'fight', 'if', 'that', 'made', 'her', 'feel', 'better', 'so', 'long', 'as', 'it', \"wasn't\", 'for', 'money', 'i', 'did', 'this', 'all', 'the', 'time', 'before', 'but', 'never', 'was', 'ever', 'so']\n",
      "['she', 'said', 'she', 'was', 'a', 'little', 'stressed', 'out', 'because', 'she', \"wasn't\", 'doing', 'anything', 'wrong', 'and', 'had', 'a', 'lot', 'of', 'anxiety', 'issues', 'but', 'i', 'had', 'been', 'watching', 'the', 'news', 'and', 'realized', 'that', 'her', 'mom', 'was', 'the', 'most', 'important', 'thing', 'to', 'me', 'and', 'i', 'was', 'not', 'a', 'fan', 'of', 'this', 'guy', 'she', 'was', 'a', 'nice', 'girl', 'i', 'loved', 'her', 'very', 'much', 'but', 'i', \"couldn't\", 'let', 'her', 'go', 'without', 'making', 'it', 'clear', 'i', 'had', 'a', 'heart', 'and', 'she', 'was', 'willing', 'to', 'play', 'this', 'game', 'to', 'win', 'a', 'fight', 'if', 'that', 'made', 'her', 'feel', 'better', 'so', 'long', 'as', 'it', 'was', 'her', 'own', 'money', 'i', 'did', 'this', 'all', 'the', 'time', 'but', 'never', 'ever', 'felt', 'like', 'she']\n",
      "['she', 'said', 'she', 'was', 'a', 'little', 'stressed', 'out', 'because', 'she', \"wasn't\", 'doing', 'anything', 'wrong', 'and', 'had', 'a', 'lot', 'of', 'anxiety', 'issues', 'but', 'i', 'had', 'been', 'watching', 'the', 'news', 'and', 'realized', 'that', 'her', 'mom', 'was', 'the', 'most', 'important', 'thing', 'to', 'me', 'and', 'i', 'was', 'not', 'a', 'fan', 'of', 'this', 'guy', 'she', 'was', 'a', 'nice', 'girl', 'i', 'loved', 'her', 'very', 'much', 'but', 'i', \"couldn't\", 'let', 'her', 'go', 'without', 'making', 'it', 'clear', 'i', 'had', 'a', 'heart', 'and', 'she', 'was', 'willing', 'to', 'play', 'this', 'game', 'to', 'win', 'a', 'fight', 'if', 'that', 'made', 'her', 'feel', 'better', 'so', 'long', 'as', 'it', 'was', 'her', 'own', 'money', 'i', 'think', 'i', 'did', 'it', 'all', 'myself', 'but', 'i', \"couldn't\", 'let', 'it', 'get']\n",
      "['she', 'said', 'she', 'was', 'a', 'little', 'stressed', 'out', 'because', 'she', \"wasn't\", 'doing', 'anything', 'wrong', 'and', 'had', 'a', 'lot', 'of', 'anxiety', 'issues', 'but', 'i', 'had', 'been', 'watching', 'the', 'news', 'and', 'realized', 'that', 'her', 'mom', 'was', 'the', 'most', 'important', 'thing', 'to', 'me', 'and', 'i', 'was', 'not', 'a', 'fan', 'of', 'this', 'guy', 'she', 'was', 'a', 'nice', 'girl', 'i', 'loved', 'her', 'very', 'much', 'but', 'i', \"couldn't\", 'let', 'her', 'go', 'without', 'making', 'it', 'clear', 'i', 'had', 'a', 'heart', 'and', 'she', 'was', 'willing', 'to', 'play', 'this', 'game', 'to', 'win', 'a', 'fight', 'if', 'that', 'made', 'her', 'feel', 'better', 'so', 'long', 'as', 'it', 'was', 'her', 'money', 'i', 'think', 'i', 'did', 'it', 'all', 'the', 'time', 'but', 'she', 'still', 'felt', 'bad', 'and', 'it']\n",
      "['she', 'said', 'she', 'was', 'a', 'little', 'stressed', 'out', 'because', 'she', \"wasn't\", 'doing', 'anything', 'wrong', 'and', 'had', 'a', 'lot', 'of', 'anxiety', 'issues', 'but', 'i', 'had', 'been', 'watching', 'the', 'news', 'and', 'realized', 'that', 'her', 'mom', 'was', 'the', 'most', 'important', 'thing', 'to', 'me', 'and', 'i', 'was', 'not', 'a', 'fan', 'of', 'this', 'guy', 'she', 'was', 'a', 'nice', 'girl', 'i', 'loved', 'her', 'very', 'much', 'but', 'i', \"couldn't\", 'let', 'her', 'go', 'without', 'making', 'it', 'clear', 'i', 'had', 'a', 'heart', 'and', 'she', 'was', 'willing', 'to', 'play', 'this', 'game', 'to', 'win', 'a', 'fight', 'if', 'that', 'made', 'her', 'feel', 'better', 'so', 'long', 'as', 'it', 'was', 'her', 'own', 'business', 'i', 'did', 'this', 'a', 'lot', 'before', 'but', 'never', 'like', 'this', 'and', 'now', 'she', \"doesn't\", 'feel']\n",
      "['she', 'said', 'she', 'was', 'a', 'little', 'stressed', 'out', 'because', 'she', \"wasn't\", 'doing', 'anything', 'wrong', 'and', 'had', 'a', 'lot', 'of', 'anxiety', 'issues', 'but', 'i', 'had', 'been', 'watching', 'the', 'news', 'and', 'realized', 'that', 'her', 'mom', 'was', 'the', 'most', 'important', 'thing', 'to', 'me', 'and', 'i', 'was', 'not', 'a', 'fan', 'of', 'this', 'guy', 'she', 'was', 'a', 'nice', 'girl', 'i', 'loved', 'her', 'very', 'much', 'but', 'i', \"couldn't\", 'let', 'her', 'go', 'without', 'making', 'it', 'clear', 'i', 'had', 'a', 'heart', 'and', 'she', 'was', 'willing', 'to', 'play', 'this', 'game', 'to', 'win', 'a', 'fight', 'if', 'that', 'made', 'her', 'feel', 'better', 'so', 'long', 'as', 'it', 'was', 'her', 'money', 'i', 'think', 'i', 'did', 'it', 'all', 'the', 'time', 'but', 'she', 'still', 'felt', 'bad', 'and', 'she', \"couldn't\", 'let']\n",
      "['she', 'said', 'she', 'was', 'a', 'little', 'stressed', 'out', 'because', 'she', \"wasn't\", 'doing', 'anything', 'wrong', 'and', 'had', 'a', 'lot', 'of', 'anxiety', 'issues', 'but', 'i', 'had', 'been', 'watching', 'the', 'news', 'and', 'realized', 'that', 'her', 'mom', 'was', 'the', 'most', 'important', 'thing', 'to', 'me', 'and', 'i', 'was', 'not', 'a', 'fan', 'of', 'this', 'guy', 'she', 'was', 'a', 'nice', 'girl', 'i', 'loved', 'her', 'very', 'much', 'but', 'i', \"couldn't\", 'let', 'her', 'go', 'without', 'making', 'it', 'clear', 'i', 'had', 'a', 'heart', 'and', 'she', 'was', 'willing', 'to', 'play', 'this', 'game', 'to', 'win', 'a', 'fight', 'if', 'that', 'made', 'her', 'feel', 'better', 'so', 'long', 'as', 'it', 'was', 'her', 'money', 'i', 'think', 'i', 'did', 'it', 'all', 'the', 'time', 'but', 'she', 'still', 'felt', 'bad', 'and', 'she', \"couldn't\", 'let', 'it']\n",
      "['she', 'said', 'she', 'was', 'a', 'little', 'stressed', 'out', 'because', 'she', \"wasn't\", 'doing', 'anything', 'wrong', 'and', 'had', 'a', 'lot', 'of', 'anxiety', 'issues', 'but', 'i', 'had', 'been', 'watching', 'the', 'news', 'and', 'realized', 'that', 'her', 'mom', 'was', 'the', 'most', 'important', 'thing', 'to', 'me', 'and', 'i', 'was', 'not', 'a', 'fan', 'of', 'this', 'guy', 'she', 'was', 'a', 'nice', 'girl', 'i', 'loved', 'her', 'very', 'much', 'but', 'i', \"couldn't\", 'let', 'her', 'go', 'without', 'making', 'it', 'clear', 'i', 'had', 'a', 'heart', 'and', 'she', 'was', 'willing', 'to', 'play', 'this', 'game', 'to', 'win', 'a', 'fight', 'if', 'that', 'made', 'her', 'feel', 'better', 'so', 'long', 'as', 'it', 'was', 'her', 'money', 'i', 'think', 'i', 'did', 'it', 'all', 'the', 'time', 'but', 'she', 'still', 'felt', 'bad', 'and', 'that', 'she', \"couldn't\", 'let', 'it']\n",
      "['she', 'said', 'she', 'was', 'a', 'little', 'stressed', 'out', 'because', 'she', \"wasn't\", 'doing', 'anything', 'wrong', 'and', 'had', 'a', 'lot', 'of', 'anxiety', 'issues', 'but', 'i', 'had', 'been', 'watching', 'the', 'news', 'and', 'realized', 'that', 'her', 'mom', 'was', 'the', 'most', 'important', 'thing', 'to', 'me', 'and', 'i', 'was', 'not', 'a', 'fan', 'of', 'this', 'guy', 'she', 'was', 'a', 'nice', 'girl', 'i', 'loved', 'her', 'very', 'much', 'but', 'i', \"couldn't\", 'let', 'her', 'go', 'without', 'making', 'it', 'clear', 'i', 'had', 'a', 'heart', 'and', 'she', 'was', 'willing', 'to', 'play', 'this', 'game', 'to', 'win', 'a', 'fight', 'if', 'that', 'made', 'her', 'feel', 'better', 'so', 'long', 'as', 'it', 'was', 'her', 'money', 'i', 'think', 'i', 'did', 'it', 'all', 'the', 'time', 'but', 'i', \"couldn't\", 'really', 'let', 'her', 'go', 'i', 'thought', 'the', 'fact', 'she']\n",
      "['she', 'said', 'she', 'was', 'a', 'little', 'stressed', 'out', 'because', 'she', \"wasn't\", 'doing', 'anything', 'wrong', 'and', 'had', 'a', 'lot', 'of', 'anxiety', 'issues', 'but', 'i', 'had', 'been', 'watching', 'the', 'news', 'and', 'realized', 'that', 'her', 'mom', 'was', 'the', 'most', 'important', 'thing', 'to', 'me', 'and', 'i', 'was', 'not', 'a', 'fan', 'of', 'this', 'guy', 'she', 'was', 'a', 'nice', 'girl', 'i', 'loved', 'her', 'very', 'much', 'but', 'i', \"couldn't\", 'let', 'her', 'go', 'without', 'making', 'it', 'clear', 'i', 'had', 'a', 'heart', 'and', 'she', 'was', 'willing', 'to', 'play', 'this', 'game', 'to', 'win', 'a', 'fight', 'if', 'that', 'made', 'her', 'feel', 'better', 'so', 'long', 'as', 'it', 'was', 'her', 'money', 'i', 'think', 'i', 'did', 'it', 'all', 'the', 'time', 'but', 'i', \"couldn't\", 'let', 'her', 'make', 'a', 'living', 'i', 'thought', 'the', 'fact', 'she']\n",
      "['she', 'said', 'she', 'was', 'a', 'little', 'stressed', 'out', 'because', 'she', \"wasn't\", 'doing', 'anything', 'wrong', 'and', 'had', 'a', 'lot', 'of', 'anxiety', 'issues', 'but', 'i', 'had', 'been', 'watching', 'the', 'news', 'and', 'realized', 'that', 'her', 'mom', 'was', 'the', 'most', 'important', 'thing', 'to', 'me', 'and', 'i', 'was', 'not', 'a', 'fan', 'of', 'this', 'guy', 'she', 'was', 'a', 'nice', 'girl', 'i', 'loved', 'her', 'very', 'much', 'but', 'i', \"couldn't\", 'let', 'her', 'go', 'without', 'making', 'it', 'clear', 'i', 'had', 'a', 'heart', 'and', 'she', 'was', 'willing', 'to', 'play', 'this', 'game', 'to', 'win', 'a', 'fight', 'if', 'that', 'made', 'her', 'feel', 'better', 'so', 'long', 'as', 'it', 'was', 'her', 'money', 'i', 'think', 'i', 'did', 'it', 'all', 'the', 'time', 'but', 'i', \"couldn't\", 'really', 'let', 'her', 'go', 'i', 'thought', 'the', 'fact', 'she', 'had', 'a']\n"
     ]
    }
   ],
   "source": [
    "# decode responses\n",
    "decoder = Decoder(word_times, config.WIDTH)\n",
    "sm = StimulusModel(lanczos_mat, tr_stats, word_stats[0], device = \"cuda:4\")\n",
    "for sample_index in range(120):\n",
    "    trs = affected_trs(decoder.first_difference(), sample_index, lanczos_mat)\n",
    "    ncontext = decoder.time_window(sample_index, config.LM_TIME, floor = 5)\n",
    "    beam_nucs = lm.beam_propose(decoder.beam, ncontext)\n",
    "    for c, (hyp, nextensions) in enumerate(decoder.get_hypotheses()):\n",
    "        # print(c, len(hyp.words), nextensions, len(beam_nucs))\n",
    "        nuc, logprobs = beam_nucs[c]\n",
    "        if len(nuc) < 1: continue\n",
    "        extend_words = [hyp.words + [x] for x in nuc]\n",
    "        extend_embs = list(features.extend(extend_words, verbose=False))\n",
    "        stim = sm.make_variants(sample_index, hyp.embs, extend_embs, trs)\n",
    "        likelihoods = em.prs(stim, trs)\n",
    "        local_extensions = [Hypothesis(parent = hyp, extension = x) for x in zip(nuc, logprobs, extend_embs)]\n",
    "        decoder.add_extensions(local_extensions, likelihoods, nextensions)\n",
    "    decoder.extend(verbose = True)"
   ]
  },
  {
   "cell_type": "code",
   "execution_count": 115,
   "metadata": {},
   "outputs": [
    {
     "data": {
      "text/plain": [
       "[['i'], ['we'], ['she'], ['he'], ['they'], ['it']]"
      ]
     },
     "execution_count": 115,
     "metadata": {},
     "output_type": "execute_result"
    }
   ],
   "source": [
    "[local_extensions[i].words for i in range(6)]"
   ]
  },
  {
   "cell_type": "code",
   "execution_count": 111,
   "metadata": {},
   "outputs": [
    {
     "data": {
      "text/plain": [
       "array([-21884.957, -21884.965, -21884.98 , -21884.982, -21884.98 ,\n",
       "       -21884.986], dtype=float32)"
      ]
     },
     "execution_count": 111,
     "metadata": {},
     "output_type": "execute_result"
    }
   ],
   "source": [
    "likelihoods"
   ]
  },
  {
   "cell_type": "code",
   "execution_count": 103,
   "metadata": {},
   "outputs": [
    {
     "data": {
      "text/plain": [
       "(6, 6, 3072)"
      ]
     },
     "execution_count": 103,
     "metadata": {},
     "output_type": "execute_result"
    }
   ],
   "source": [
    "stim.cpu().numpy().shape"
   ]
  },
  {
   "cell_type": "code",
   "execution_count": 99,
   "metadata": {},
   "outputs": [
    {
     "data": {
      "text/plain": [
       "(6, (768,))"
      ]
     },
     "execution_count": 99,
     "metadata": {},
     "output_type": "execute_result"
    }
   ],
   "source": [
    "len(extend_embs), extend_embs[0].shape"
   ]
  },
  {
   "cell_type": "code",
   "execution_count": 93,
   "metadata": {},
   "outputs": [
    {
     "data": {
      "text/plain": [
       "<StimulusModel.LMFeatures at 0x7f04faa06470>"
      ]
     },
     "execution_count": 93,
     "metadata": {},
     "output_type": "execute_result"
    }
   ],
   "source": [
    "features"
   ]
  },
  {
   "cell_type": "code",
   "execution_count": 64,
   "metadata": {},
   "outputs": [
    {
     "data": {
      "text/plain": [
       "0"
      ]
     },
     "execution_count": 64,
     "metadata": {},
     "output_type": "execute_result"
    }
   ],
   "source": [
    "decoder.first_difference()"
   ]
  },
  {
   "cell_type": "code",
   "execution_count": null,
   "metadata": {},
   "outputs": [],
   "source": []
  }
 ],
 "metadata": {
  "kernelspec": {
   "display_name": "pyenv",
   "language": "python",
   "name": "python3"
  },
  "language_info": {
   "codemirror_mode": {
    "name": "ipython",
    "version": 3
   },
   "file_extension": ".py",
   "mimetype": "text/x-python",
   "name": "python",
   "nbconvert_exporter": "python",
   "pygments_lexer": "ipython3",
   "version": "3.10.12"
  }
 },
 "nbformat": 4,
 "nbformat_minor": 2
}
